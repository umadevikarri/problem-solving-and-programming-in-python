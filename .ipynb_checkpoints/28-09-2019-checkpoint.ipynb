{
 "cells": [
  {
   "cell_type": "code",
   "execution_count": 8,
   "metadata": {},
   "outputs": [
    {
     "name": "stdout",
     "output_type": "stream",
     "text": [
      "2\n",
      "hai\n",
      "ibj\n",
      "how are you\n",
      "ipx bsf zpv\n"
     ]
    }
   ],
   "source": [
    "n = int(input())\n",
    "for i in range(n):\n",
    "    s = input()\n",
    "    out = \"\" \n",
    "    for char in s:\n",
    "        if char.isalpha():\n",
    "            out += chr(ord(char)+1)\n",
    "        else:\n",
    "            out += char\n",
    "    print(out)\n",
    "        "
   ]
  },
  {
   "cell_type": "code",
   "execution_count": 48,
   "metadata": {},
   "outputs": [
    {
     "name": "stdout",
     "output_type": "stream",
     "text": [
      "1\n",
      "hi\n",
      "ij\n",
      "ij\n"
     ]
    }
   ],
   "source": [
    "def encrypt(str):\n",
    "    out = \"\"\n",
    "    for char in str:\n",
    "        if char.isalpha():\n",
    "            out+=chr(ord(char)+1)\n",
    "        else:\n",
    "            out += char\n",
    "    print(out) \n",
    "    return out\n",
    "n=int(input())\n",
    "for i in range(n):\n",
    "    s = input()\n",
    "    print(encrypt(s))\n",
    "    "
   ]
  },
  {
   "cell_type": "code",
   "execution_count": 46,
   "metadata": {},
   "outputs": [
    {
     "name": "stdout",
     "output_type": "stream",
     "text": [
      "1\n",
      "4569687\n",
      "False\n"
     ]
    }
   ],
   "source": [
    "def pandigit(str1):\n",
    "    for digit in range(10):\n",
    "        if str(digit) not in str1:\n",
    "            return False\n",
    "        return True\n",
    "for t in range(int(input())):\n",
    "        s = input()\n",
    "print(pandigit(s))       \n",
    "        "
   ]
  },
  {
   "cell_type": "code",
   "execution_count": 49,
   "metadata": {},
   "outputs": [
    {
     "name": "stdout",
     "output_type": "stream",
     "text": [
      "1\n",
      "-9 0 1 2 4 5\n",
      "-3\n"
     ]
    }
   ],
   "source": [
    "n=int(input())\n",
    "sum=0\n",
    "for i in range(0,n):\n",
    "    i=input().split()\n",
    "    for j in i:\n",
    "        sum=sum+int(j)*-1\n",
    "    print(sum)  \n",
    "    "
   ]
  },
  {
   "cell_type": "code",
   "execution_count": 50,
   "metadata": {},
   "outputs": [
    {
     "name": "stdout",
     "output_type": "stream",
     "text": [
      "1\n",
      "-5 9 8 -10 -78\n",
      "<class 'str'>\n"
     ]
    }
   ],
   "source": [
    "\n",
    "def additiveinverse(1):\n",
    "    s=0\n",
    "    for ele in 1:\n",
    "        \n",
    "n=int(input())\n",
    "for t in range(n):\n",
    "    line = input.split()\n",
    "    print(line)\n"
   ]
  },
  {
   "cell_type": "code",
   "execution_count": null,
   "metadata": {},
   "outputs": [],
   "source": []
  }
 ],
 "metadata": {
  "kernelspec": {
   "display_name": "Python 3",
   "language": "python",
   "name": "python3"
  },
  "language_info": {
   "codemirror_mode": {
    "name": "ipython",
    "version": 3
   },
   "file_extension": ".py",
   "mimetype": "text/x-python",
   "name": "python",
   "nbconvert_exporter": "python",
   "pygments_lexer": "ipython3",
   "version": "3.7.3"
  }
 },
 "nbformat": 4,
 "nbformat_minor": 2
}
